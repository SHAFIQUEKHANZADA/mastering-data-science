{
  "nbformat": 4,
  "nbformat_minor": 0,
  "metadata": {
    "colab": {
      "provenance": [],
      "authorship_tag": "ABX9TyPEmXgaWf/Pw/LjgTNd13Kr",
      "include_colab_link": true
    },
    "kernelspec": {
      "name": "python3",
      "display_name": "Python 3"
    },
    "language_info": {
      "name": "python"
    }
  },
  "cells": [
    {
      "cell_type": "markdown",
      "metadata": {
        "id": "view-in-github",
        "colab_type": "text"
      },
      "source": [
        "<a href=\"https://colab.research.google.com/github/SHAFIQUEKHANZADA/mastering-data-science/blob/main/NumPy/Phase_2_Operations_on_numpy_array.ipynb\" target=\"_parent\"><img src=\"https://colab.research.google.com/assets/colab-badge.svg\" alt=\"Open In Colab\"/></a>"
      ]
    },
    {
      "cell_type": "markdown",
      "source": [
        "# **Phase 2 - Operations on numpy array**"
      ],
      "metadata": {
        "id": "AaMrcuXM2tZi"
      }
    },
    {
      "cell_type": "code",
      "execution_count": 1,
      "metadata": {
        "id": "_IzhkgQw2r1X"
      },
      "outputs": [],
      "source": [
        "import numpy as np"
      ]
    },
    {
      "cell_type": "markdown",
      "source": [
        "## 🔹 1D Array Slicing"
      ],
      "metadata": {
        "id": "nRlNfNhO3dVS"
      }
    },
    {
      "cell_type": "code",
      "source": [
        "arr = np.array([1, 2, 3, 4, 5, 6, 7, 8, 9, 10])\n",
        "\n",
        "print(\"Baisc Slicing: \", arr[2:6])\n",
        "print(\"Step Slicing: \", arr[1:9:2])\n",
        "print(\"Reverse Slicing: \", arr[-1])"
      ],
      "metadata": {
        "colab": {
          "base_uri": "https://localhost:8080/"
        },
        "id": "PlVXDfGT3AWQ",
        "outputId": "524979d9-05ca-4524-c261-a545294f9da6"
      },
      "execution_count": 2,
      "outputs": [
        {
          "output_type": "stream",
          "name": "stdout",
          "text": [
            "Baisc Slicing:  [3 4 5 6]\n",
            "Step Slicing:  [2 4 6 8]\n",
            "Reverse Slicing:  10\n"
          ]
        }
      ]
    },
    {
      "cell_type": "code",
      "source": [
        "arr_2d = np.array([\n",
        "    [1,2,3],\n",
        "    [4,5,6],\n",
        "    [7,8,9]\n",
        "])\n",
        "\n",
        "print(\"Specific Elements\", arr_2d[1,2])\n",
        "print(\"Specific Row\", arr_2d[1])\n",
        "print(\"Specific Column\", arr_2d[:,1])"
      ],
      "metadata": {
        "colab": {
          "base_uri": "https://localhost:8080/"
        },
        "id": "DHiYlll93m6s",
        "outputId": "203458ef-7878-4724-f279-3b76fab37c69"
      },
      "execution_count": 3,
      "outputs": [
        {
          "output_type": "stream",
          "name": "stdout",
          "text": [
            "Specific Elements 6\n",
            "Specific Row [4 5 6]\n",
            "Specific Column [2 5 8]\n"
          ]
        }
      ]
    },
    {
      "cell_type": "markdown",
      "source": [
        "## Sorting"
      ],
      "metadata": {
        "id": "GghBEHoy3ocR"
      }
    },
    {
      "cell_type": "code",
      "source": [
        "unsorted_arr = np.array([1,2,4,8,3,6,4,1])\n",
        "print(\"Unsorted Array: \", unsorted_arr)\n",
        "\n",
        "sorted_arr = np.sort(unsorted_arr)\n",
        "print(\"Sorted Array: \", sorted_arr)\n",
        "\n",
        "unsorted_2d = np.array([[3,1,2],\n",
        "                        [6,4,5],\n",
        "                        [6,0,9]])\n",
        "print(\"2D Array sorted by column\", np.sort(unsorted_2d, axis=0))\n",
        "print(\"2D Array sorted by row\", np.sort(unsorted_2d, axis=1))"
      ],
      "metadata": {
        "colab": {
          "base_uri": "https://localhost:8080/"
        },
        "id": "snkfy47X3nRa",
        "outputId": "e9268895-682e-45a1-f373-adc0abe1cbe7"
      },
      "execution_count": 4,
      "outputs": [
        {
          "output_type": "stream",
          "name": "stdout",
          "text": [
            "Unsorted Array:  [1 2 4 8 3 6 4 1]\n",
            "Sorted Array:  [1 1 2 3 4 4 6 8]\n",
            "2D Array sorted by column [[3 0 2]\n",
            " [6 1 5]\n",
            " [6 4 9]]\n",
            "2D Array sorted by row [[1 2 3]\n",
            " [4 5 6]\n",
            " [0 6 9]]\n"
          ]
        }
      ]
    },
    {
      "cell_type": "markdown",
      "source": [
        "## Filter"
      ],
      "metadata": {
        "id": "ffDWCZFs3yHk"
      }
    },
    {
      "cell_type": "code",
      "source": [
        "numbers = np.array([1, 2, 3, 4, 5, 6, 7, 8, 9, 10])\n",
        "\n",
        "even_number = numbers % 2 == 0\n",
        "print(\"Even Numbers: \", numbers[even_number])"
      ],
      "metadata": {
        "colab": {
          "base_uri": "https://localhost:8080/"
        },
        "id": "iJnufUrc3uPz",
        "outputId": "a1005cff-69ee-4aef-932e-a3fb9d751bb0"
      },
      "execution_count": 5,
      "outputs": [
        {
          "output_type": "stream",
          "name": "stdout",
          "text": [
            "Even Numbers:  [ 2  4  6  8 10]\n"
          ]
        }
      ]
    },
    {
      "cell_type": "markdown",
      "source": [
        "## Filter with mask"
      ],
      "metadata": {
        "id": "moJ5_tWR303H"
      }
    },
    {
      "cell_type": "code",
      "source": [
        "mask = numbers > 5\n",
        "\n",
        "print(\"Numbers is grater than Five: \", numbers[mask])"
      ],
      "metadata": {
        "colab": {
          "base_uri": "https://localhost:8080/"
        },
        "id": "RS_gDUuA30hm",
        "outputId": "407846d0-454c-4f96-e4a5-5fd905cde6bc"
      },
      "execution_count": 6,
      "outputs": [
        {
          "output_type": "stream",
          "name": "stdout",
          "text": [
            "Numbers is grater than Five:  [ 6  7  8  9 10]\n"
          ]
        }
      ]
    },
    {
      "cell_type": "markdown",
      "source": [
        "## Fancy indexing vs np.where()"
      ],
      "metadata": {
        "id": "Ht0ZsTPA4Ae3"
      }
    },
    {
      "cell_type": "code",
      "source": [
        "indices = [0,3,6]\n",
        "print(numbers[indices])\n",
        "\n",
        "where_result = np.where(numbers > 5, numbers * 3, \"False\")\n",
        "print(where_result)"
      ],
      "metadata": {
        "colab": {
          "base_uri": "https://localhost:8080/"
        },
        "id": "B-5-yL5G37nX",
        "outputId": "3ec208d5-a7b8-4d94-d1b4-959177405b8c"
      },
      "execution_count": 7,
      "outputs": [
        {
          "output_type": "stream",
          "name": "stdout",
          "text": [
            "[1 4 7]\n",
            "['False' 'False' 'False' 'False' 'False' '18' '21' '24' '27' '30']\n"
          ]
        }
      ]
    },
    {
      "cell_type": "markdown",
      "source": [
        "## Adding and Removing Data"
      ],
      "metadata": {
        "id": "oO-jJYZx4H3D"
      }
    },
    {
      "cell_type": "code",
      "source": [
        "arr1 = np.array([1,2,3])\n",
        "arr2 = np.array([4,5,6])\n",
        "\n",
        "combined = np.concatenate((arr1, arr2))\n",
        "print(\"Combined Array: \", combined)"
      ],
      "metadata": {
        "colab": {
          "base_uri": "https://localhost:8080/"
        },
        "id": "REkBa_kv4HLi",
        "outputId": "a76f5e7c-7eca-4bd5-84fa-41bdf11deac8"
      },
      "execution_count": 8,
      "outputs": [
        {
          "output_type": "stream",
          "name": "stdout",
          "text": [
            "Combined Array:  [1 2 3 4 5 6]\n"
          ]
        }
      ]
    },
    {
      "cell_type": "markdown",
      "source": [
        "## Array Compatibility"
      ],
      "metadata": {
        "id": "G7R2DSzF4OXB"
      }
    },
    {
      "cell_type": "code",
      "source": [
        "a = np.array([1,2,3])\n",
        "b = np.array([4,5,6])\n",
        "c = np.array([7,8,9])\n",
        "\n",
        "print(\"Compatibility Shaps:\", a.shape == b.shape)"
      ],
      "metadata": {
        "colab": {
          "base_uri": "https://localhost:8080/"
        },
        "id": "sENJIYJ_4Nba",
        "outputId": "ad536508-f0e9-439e-a3d1-24f05d0d4d74"
      },
      "execution_count": 9,
      "outputs": [
        {
          "output_type": "stream",
          "name": "stdout",
          "text": [
            "Compatibility Shaps: True\n"
          ]
        }
      ]
    },
    {
      "cell_type": "code",
      "source": [
        "orignal = np.array([[1,2], [3,4]])\n",
        "new_row = np.array([5,6])\n",
        "\n",
        "# Adding new row\n",
        "combined = np.vstack((orignal, new_row))\n",
        "print(\"Adding New Row: \\n\", combined)\n",
        "\n",
        "# Adding new column\n",
        "new_column = np.array([[7], [8]])\n",
        "combined = np.hstack((orignal, new_column))\n",
        "print(\"Adding New Column: \\n\", combined)"
      ],
      "metadata": {
        "colab": {
          "base_uri": "https://localhost:8080/"
        },
        "id": "qS0gMVkE4UQX",
        "outputId": "6aa0c31b-abba-45b4-f878-b08ce86ee3d6"
      },
      "execution_count": 10,
      "outputs": [
        {
          "output_type": "stream",
          "name": "stdout",
          "text": [
            "Adding New Row: \n",
            " [[1 2]\n",
            " [3 4]\n",
            " [5 6]]\n",
            "Adding New Column: \n",
            " [[1 2 7]\n",
            " [3 4 8]]\n"
          ]
        }
      ]
    },
    {
      "cell_type": "code",
      "source": [
        "arr = np.arange(1, 21)\n",
        "print(arr)\n",
        "\n",
        "deleted = np.delete(arr, [2, 18, 4])\n",
        "print(deleted)"
      ],
      "metadata": {
        "colab": {
          "base_uri": "https://localhost:8080/"
        },
        "id": "iNL44CFG4Xiv",
        "outputId": "5abda54f-5346-4f0b-f024-c74d8fe80d8d"
      },
      "execution_count": 11,
      "outputs": [
        {
          "output_type": "stream",
          "name": "stdout",
          "text": [
            "[ 1  2  3  4  5  6  7  8  9 10 11 12 13 14 15 16 17 18 19 20]\n",
            "[ 1  2  4  6  7  8  9 10 11 12 13 14 15 16 17 18 20]\n"
          ]
        }
      ]
    }
  ]
}