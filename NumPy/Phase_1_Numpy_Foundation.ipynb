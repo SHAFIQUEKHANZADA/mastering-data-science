{
  "nbformat": 4,
  "nbformat_minor": 0,
  "metadata": {
    "colab": {
      "provenance": [],
      "authorship_tag": "ABX9TyNM4r/ZEDFTpsEAm/+aM5O8",
      "include_colab_link": true
    },
    "kernelspec": {
      "name": "python3",
      "display_name": "Python 3"
    },
    "language_info": {
      "name": "python"
    }
  },
  "cells": [
    {
      "cell_type": "markdown",
      "metadata": {
        "id": "view-in-github",
        "colab_type": "text"
      },
      "source": [
        "<a href=\"https://colab.research.google.com/github/SHAFIQUEKHANZADA/mastering-data-science/blob/main/NumPy/Phase_1_Numpy_Foundation.ipynb\" target=\"_parent\"><img src=\"https://colab.research.google.com/assets/colab-badge.svg\" alt=\"Open In Colab\"/></a>"
      ]
    },
    {
      "cell_type": "markdown",
      "source": [
        "# **Phase 1 - Numpy Foundation**"
      ],
      "metadata": {
        "id": "60i3GzSK2UvF"
      }
    },
    {
      "cell_type": "markdown",
      "source": [
        "# 🔢 Introduction to NumPy\n",
        "\n",
        "**NumPy** (short for **Numerical Python**) is a powerful open-source library in Python that provides support for:\n",
        "\n",
        "- **Multidimensional arrays** (also known as tensors)\n",
        "- **Mathematical functions** to operate on these arrays\n",
        "- **Efficient numerical computations**\n",
        "\n",
        "---\n",
        "\n",
        "## 🧠 Why Use NumPy?\n",
        "\n",
        "- **Performance**: NumPy arrays are more efficient than Python lists for numerical operations.\n",
        "- **Functionality**: It offers a wide range of mathematical functions, including linear algebra, statistics, and more.\n",
        "- **Integration**: NumPy integrates well with other libraries like Pandas, Matplotlib, and SciPy.\n",
        "\n",
        "---\n",
        "\n",
        "## 🔍 Key Features\n",
        "\n",
        "- **ndarray**: A fast and space-efficient multidimensional array object.\n",
        "- **Broadcasting**: Perform arithmetic operations on arrays of different shapes.\n",
        "- **Vectorization**: Eliminate the need for explicit loops, leading to cleaner and faster code.\n",
        "\n",
        "---\n",
        "\n",
        "## 📘 Example"
      ],
      "metadata": {
        "id": "7qrZlBuZGNGS"
      }
    },
    {
      "cell_type": "code",
      "source": [
        "import numpy as np"
      ],
      "metadata": {
        "id": "yegmuxN7KuPC"
      },
      "execution_count": 1,
      "outputs": []
    },
    {
      "cell_type": "code",
      "execution_count": null,
      "metadata": {
        "colab": {
          "base_uri": "https://localhost:8080/"
        },
        "id": "YFgSVMFjGK2B",
        "outputId": "0316863f-707b-416b-9f7e-2d630db5f554"
      },
      "outputs": [
        {
          "output_type": "stream",
          "name": "stdout",
          "text": [
            "Original array: [1 2 3 4 5]\n",
            "Squared array: [ 1  4  9 16 25]\n"
          ]
        }
      ],
      "source": [
        "# Create a 1D array\n",
        "arr = np.array([1, 2, 3, 4, 5])\n",
        "\n",
        "# Perform a vectorized operation\n",
        "squared = arr ** 2\n",
        "\n",
        "print(\"Original array:\", arr)\n",
        "print(\"Squared array:\", squared)\n"
      ]
    },
    {
      "cell_type": "markdown",
      "source": [
        "# NumPy Arrays vs. Python Lists\n",
        "\n",
        "| Feature               | Python List                         | NumPy Array                          |\n",
        "|-----------------------|-------------------------------------|--------------------------------------|\n",
        "| **Data Type**         | Heterogeneous (mixed types allowed) | Homogeneous (single data type)       |\n",
        "| **Performance**       | Slower for numerical computations   | Faster due to optimized C backend    |\n",
        "| **Memory Efficiency** | Less efficient                      | More efficient                       |\n",
        "| **Functionality**     | Basic operations                    | Advanced mathematical operations     |\n",
        "| **Flexibility**       | Dynamic resizing and mixed types    | Fixed size and data type             |\n",
        "\n",
        "**Key Takeaways:**\n",
        "- Use **Python lists** for general-purpose programming where flexibility is needed.\n",
        "- Use **NumPy arrays** for numerical computations and data analysis tasks for better performance and functionality.\n"
      ],
      "metadata": {
        "id": "jdUATtAcUX7V"
      }
    },
    {
      "cell_type": "code",
      "source": [
        "# python list multiplication\n",
        "lists = [1,2,3]\n",
        "print(\"Multiply List by 2: \", lists * 2)\n",
        "\n",
        "# numpy array multiplication\n",
        "arr = np.array([1,2,3])\n",
        "print(\"Multiply Array by 2: \", arr * 2)"
      ],
      "metadata": {
        "colab": {
          "base_uri": "https://localhost:8080/"
        },
        "id": "YGpPZ1t3LBnz",
        "outputId": "1f37113d-83df-438b-bcc5-2ed05549917a"
      },
      "execution_count": null,
      "outputs": [
        {
          "output_type": "stream",
          "name": "stdout",
          "text": [
            "Multiply List by 2:  [1, 2, 3, 1, 2, 3]\n",
            "Multiply Array by 2:  [2 4 6]\n"
          ]
        }
      ]
    },
    {
      "cell_type": "code",
      "source": [
        "# Let's check the time of both operations\n",
        "\n",
        "import time\n",
        "\n",
        "start = time.time()\n",
        "py_list = [i*2 for i in range(100000)]\n",
        "print(\"Python List operation time: \", time.time() - start)\n",
        "\n",
        "start = time.time()\n",
        "np_arr = np.arange(100000) * 2\n",
        "print(\"NumPy Array operation time: \", time.time() - start)"
      ],
      "metadata": {
        "colab": {
          "base_uri": "https://localhost:8080/"
        },
        "id": "u_R2x4QoVJxf",
        "outputId": "d9e8c3f2-89ce-4806-babf-398ccd3d17c4"
      },
      "execution_count": null,
      "outputs": [
        {
          "output_type": "stream",
          "name": "stdout",
          "text": [
            "Python List operation time:  0.0069124698638916016\n",
            "NumPy Array operation time:  0.010230302810668945\n"
          ]
        }
      ]
    },
    {
      "cell_type": "markdown",
      "source": [
        "# Creating Array from Scratch"
      ],
      "metadata": {
        "id": "M118t28IXNaf"
      }
    },
    {
      "cell_type": "code",
      "source": [
        "zeros_arr = np.zeros((3, 5)) # rows x colunms\n",
        "print(\"Zeros Array:\\n\", zeros_arr)\n",
        "\n",
        "onces_arr = np.ones((3, 5))\n",
        "print(\"Onces Array:\\n\", onces_arr)\n",
        "\n",
        "full_arr = np.full((3, 5), 7)\n",
        "print(\"Full Array:\\n\", full_arr)\n",
        "\n",
        "random_arr = np.random.random((3, 2))\n",
        "print(\"Random Array:\\n\", random_arr)\n",
        "\n",
        "sequence = np.arange(0, 31, 3)\n",
        "print(\"Sequence Array:\\n\", sequence)"
      ],
      "metadata": {
        "colab": {
          "base_uri": "https://localhost:8080/"
        },
        "id": "khpqUUGoXTPg",
        "outputId": "b0087007-1737-4d4f-f9fa-e1673acb0fe9"
      },
      "execution_count": null,
      "outputs": [
        {
          "output_type": "stream",
          "name": "stdout",
          "text": [
            "Zeros Array:\n",
            " [[0. 0. 0. 0. 0.]\n",
            " [0. 0. 0. 0. 0.]\n",
            " [0. 0. 0. 0. 0.]]\n",
            "Onces Array:\n",
            " [[1. 1. 1. 1. 1.]\n",
            " [1. 1. 1. 1. 1.]\n",
            " [1. 1. 1. 1. 1.]]\n",
            "Full Array:\n",
            " [[7 7 7 7 7]\n",
            " [7 7 7 7 7]\n",
            " [7 7 7 7 7]]\n",
            "Random Array:\n",
            " [[0.073961   0.87672446]\n",
            " [0.47552497 0.68226432]\n",
            " [0.02368707 0.0210119 ]]\n",
            "Sequence Array:\n",
            " [ 0  3  6  9 12 15 18 21 24 27 30]\n"
          ]
        }
      ]
    },
    {
      "cell_type": "markdown",
      "source": [
        "# Vector, Metrics and Tensors"
      ],
      "metadata": {
        "id": "sRGhULc5aUZ8"
      }
    },
    {
      "cell_type": "code",
      "source": [
        "vector = np.array([1,2,3])\n",
        "print(\"Vector: \", vector)\n",
        "\n",
        "matrix = np.array([[1,2,3], [4,5,6], [7,8,9]])\n",
        "print(\"Matrix: \\n\", matrix)\n",
        "\n",
        "tensor = np.array([\n",
        "    [[1,2,3], [4,5,6], [7,8,9]],\n",
        "    [[1,2,3], [4,5,6], [7,8,9]]\n",
        "    ])\n",
        "print(\"Tensor: \\n\", tensor)"
      ],
      "metadata": {
        "colab": {
          "base_uri": "https://localhost:8080/"
        },
        "id": "pHMIoFwTXtnj",
        "outputId": "c8479a3e-940e-48c8-82a1-8f84d10817bf"
      },
      "execution_count": null,
      "outputs": [
        {
          "output_type": "stream",
          "name": "stdout",
          "text": [
            "Vector:  [1 2 3]\n",
            "Matrix: \n",
            " [[1 2 3]\n",
            " [4 5 6]\n",
            " [7 8 9]]\n",
            "Tensor: \n",
            " [[[1 2 3]\n",
            "  [4 5 6]\n",
            "  [7 8 9]]\n",
            "\n",
            " [[1 2 3]\n",
            "  [4 5 6]\n",
            "  [7 8 9]]]\n"
          ]
        }
      ]
    },
    {
      "cell_type": "markdown",
      "source": [
        "# Array properties"
      ],
      "metadata": {
        "id": "r4E2SLUGcDp9"
      }
    },
    {
      "cell_type": "code",
      "source": [
        "arr = np.array([\n",
        "    [1,2,3],\n",
        "    [4,5,6],\n",
        "    [7,8,9]\n",
        "])\n",
        "\n",
        "print(\"Shape: \", arr.shape)\n",
        "print(\"Dimension: \", arr.ndim)\n",
        "print(\"Size: \", arr.size)\n",
        "print(\"Data Type: \", arr.dtype)"
      ],
      "metadata": {
        "colab": {
          "base_uri": "https://localhost:8080/"
        },
        "id": "9lrKs5eEbjhW",
        "outputId": "0b5fda90-4002-4e76-a9db-b2f6cb03a7dc"
      },
      "execution_count": null,
      "outputs": [
        {
          "output_type": "stream",
          "name": "stdout",
          "text": [
            "Shape:  (3, 3)\n",
            "Dimension:  2\n",
            "Size:  9\n",
            "Data Type:  int64\n"
          ]
        }
      ]
    },
    {
      "cell_type": "markdown",
      "source": [
        "# Array Reshaping"
      ],
      "metadata": {
        "id": "eUWFqIcfd21o"
      }
    },
    {
      "cell_type": "code",
      "source": [
        "arr = np.arange(1, 13)\n",
        "print(\"Orignal array: \", arr)\n",
        "\n",
        "reshaped = arr.reshape(3, 4)\n",
        "print(\"Reshaped array: \\n\", reshaped)\n",
        "\n",
        "flatended = reshaped.flatten()\n",
        "print(\"Flatended array: \", flatended)\n",
        "\n",
        "# ravel returns \"view\", instead of \"copy\"\n",
        "raveled = reshaped.ravel()\n",
        "print(\"Raveled array: \", raveled)\n",
        "\n",
        "transposed = reshaped.T\n",
        "print(\"Transposed array: \\n\", transposed)"
      ],
      "metadata": {
        "colab": {
          "base_uri": "https://localhost:8080/"
        },
        "id": "UualQCkydSYQ",
        "outputId": "ae85477c-8a02-4e2f-d5b0-fd12223ec6cf"
      },
      "execution_count": null,
      "outputs": [
        {
          "output_type": "stream",
          "name": "stdout",
          "text": [
            "Orignal array:  [ 1  2  3  4  5  6  7  8  9 10 11 12]\n",
            "Reshaped array: \n",
            " [[ 1  2  3  4]\n",
            " [ 5  6  7  8]\n",
            " [ 9 10 11 12]]\n",
            "Flatended array:  [ 1  2  3  4  5  6  7  8  9 10 11 12]\n",
            "Raveled array:  [ 1  2  3  4  5  6  7  8  9 10 11 12]\n",
            "Transposed array: \n",
            " [[ 1  5  9]\n",
            " [ 2  6 10]\n",
            " [ 3  7 11]\n",
            " [ 4  8 12]]\n"
          ]
        }
      ]
    }
  ]
}